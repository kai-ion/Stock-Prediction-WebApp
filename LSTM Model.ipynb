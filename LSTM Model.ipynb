{
 "cells": [
  {
   "cell_type": "code",
   "execution_count": 93,
   "metadata": {},
   "outputs": [],
   "source": [
    "import numpy as np\n",
    "import pandas as pd\n",
    "import matplotlib.pyplot as plt\n",
    "import pandas_datareader as data\n",
    "import datetime as dt\n",
    "\n",
    "# model is based on the close price, can also be built on high, low, or open price"
   ]
  },
  {
   "cell_type": "code",
   "execution_count": 94,
   "metadata": {},
   "outputs": [
    {
     "data": {
      "text/html": [
       "<div>\n",
       "<style scoped>\n",
       "    .dataframe tbody tr th:only-of-type {\n",
       "        vertical-align: middle;\n",
       "    }\n",
       "\n",
       "    .dataframe tbody tr th {\n",
       "        vertical-align: top;\n",
       "    }\n",
       "\n",
       "    .dataframe thead th {\n",
       "        text-align: right;\n",
       "    }\n",
       "</style>\n",
       "<table border=\"1\" class=\"dataframe\">\n",
       "  <thead>\n",
       "    <tr style=\"text-align: right;\">\n",
       "      <th></th>\n",
       "      <th>Open</th>\n",
       "      <th>High</th>\n",
       "      <th>Low</th>\n",
       "      <th>Close</th>\n",
       "      <th>Volume</th>\n",
       "    </tr>\n",
       "    <tr>\n",
       "      <th>Date</th>\n",
       "      <th></th>\n",
       "      <th></th>\n",
       "      <th></th>\n",
       "      <th></th>\n",
       "      <th></th>\n",
       "    </tr>\n",
       "  </thead>\n",
       "  <tbody>\n",
       "    <tr>\n",
       "      <th>2010-01-04</th>\n",
       "      <td>6.49958</td>\n",
       "      <td>6.53008</td>\n",
       "      <td>6.46597</td>\n",
       "      <td>6.51522</td>\n",
       "      <td>5.764890e+08</td>\n",
       "    </tr>\n",
       "    <tr>\n",
       "      <th>2010-01-05</th>\n",
       "      <td>6.53905</td>\n",
       "      <td>6.56358</td>\n",
       "      <td>6.49230</td>\n",
       "      <td>6.52639</td>\n",
       "      <td>7.055130e+08</td>\n",
       "    </tr>\n",
       "    <tr>\n",
       "      <th>2010-01-06</th>\n",
       "      <td>6.52639</td>\n",
       "      <td>6.55241</td>\n",
       "      <td>6.41553</td>\n",
       "      <td>6.42221</td>\n",
       "      <td>6.452991e+08</td>\n",
       "    </tr>\n",
       "    <tr>\n",
       "      <th>2010-01-07</th>\n",
       "      <td>6.44444</td>\n",
       "      <td>6.45421</td>\n",
       "      <td>6.36409</td>\n",
       "      <td>6.41085</td>\n",
       "      <td>5.588893e+08</td>\n",
       "    </tr>\n",
       "    <tr>\n",
       "      <th>2010-01-08</th>\n",
       "      <td>6.40586</td>\n",
       "      <td>6.45421</td>\n",
       "      <td>6.36458</td>\n",
       "      <td>6.45401</td>\n",
       "      <td>5.246856e+08</td>\n",
       "    </tr>\n",
       "  </tbody>\n",
       "</table>\n",
       "</div>"
      ],
      "text/plain": [
       "               Open     High      Low    Close        Volume\n",
       "Date                                                        \n",
       "2010-01-04  6.49958  6.53008  6.46597  6.51522  5.764890e+08\n",
       "2010-01-05  6.53905  6.56358  6.49230  6.52639  7.055130e+08\n",
       "2010-01-06  6.52639  6.55241  6.41553  6.42221  6.452991e+08\n",
       "2010-01-07  6.44444  6.45421  6.36409  6.41085  5.588893e+08\n",
       "2010-01-08  6.40586  6.45421  6.36458  6.45401  5.246856e+08"
      ]
     },
     "execution_count": 94,
     "metadata": {},
     "output_type": "execute_result"
    }
   ],
   "source": [
    "#initiate a start and end time for our dataframe\n",
    "start = dt.datetime(2010, 1, 1)\n",
    "#end = dt.datetime(2019, 12, 31)\n",
    "end = dt.datetime.today()\n",
    "\n",
    "df = data.DataReader('AAPL', 'stooq', start, end)\n",
    "\n",
    "#we have to reverse the dataframe because stooq gives us the data in reverse\n",
    "df = df[::-1]\n",
    "\n",
    "df.head()"
   ]
  },
  {
   "cell_type": "code",
   "execution_count": 95,
   "metadata": {},
   "outputs": [
    {
     "data": {
      "text/html": [
       "<div>\n",
       "<style scoped>\n",
       "    .dataframe tbody tr th:only-of-type {\n",
       "        vertical-align: middle;\n",
       "    }\n",
       "\n",
       "    .dataframe tbody tr th {\n",
       "        vertical-align: top;\n",
       "    }\n",
       "\n",
       "    .dataframe thead th {\n",
       "        text-align: right;\n",
       "    }\n",
       "</style>\n",
       "<table border=\"1\" class=\"dataframe\">\n",
       "  <thead>\n",
       "    <tr style=\"text-align: right;\">\n",
       "      <th></th>\n",
       "      <th>Open</th>\n",
       "      <th>High</th>\n",
       "      <th>Low</th>\n",
       "      <th>Close</th>\n",
       "      <th>Volume</th>\n",
       "    </tr>\n",
       "    <tr>\n",
       "      <th>Date</th>\n",
       "      <th></th>\n",
       "      <th></th>\n",
       "      <th></th>\n",
       "      <th></th>\n",
       "      <th></th>\n",
       "    </tr>\n",
       "  </thead>\n",
       "  <tbody>\n",
       "    <tr>\n",
       "      <th>2023-07-27</th>\n",
       "      <td>196.020</td>\n",
       "      <td>197.200</td>\n",
       "      <td>192.5500</td>\n",
       "      <td>193.220</td>\n",
       "      <td>47460180.0</td>\n",
       "    </tr>\n",
       "    <tr>\n",
       "      <th>2023-07-28</th>\n",
       "      <td>194.670</td>\n",
       "      <td>196.626</td>\n",
       "      <td>194.1400</td>\n",
       "      <td>195.830</td>\n",
       "      <td>48291443.0</td>\n",
       "    </tr>\n",
       "    <tr>\n",
       "      <th>2023-07-31</th>\n",
       "      <td>196.060</td>\n",
       "      <td>196.490</td>\n",
       "      <td>195.2600</td>\n",
       "      <td>196.450</td>\n",
       "      <td>38824113.0</td>\n",
       "    </tr>\n",
       "    <tr>\n",
       "      <th>2023-08-01</th>\n",
       "      <td>196.235</td>\n",
       "      <td>196.730</td>\n",
       "      <td>195.2800</td>\n",
       "      <td>195.605</td>\n",
       "      <td>35281426.0</td>\n",
       "    </tr>\n",
       "    <tr>\n",
       "      <th>2023-08-02</th>\n",
       "      <td>195.040</td>\n",
       "      <td>195.180</td>\n",
       "      <td>191.8507</td>\n",
       "      <td>192.580</td>\n",
       "      <td>50389327.0</td>\n",
       "    </tr>\n",
       "  </tbody>\n",
       "</table>\n",
       "</div>"
      ],
      "text/plain": [
       "               Open     High       Low    Close      Volume\n",
       "Date                                                       \n",
       "2023-07-27  196.020  197.200  192.5500  193.220  47460180.0\n",
       "2023-07-28  194.670  196.626  194.1400  195.830  48291443.0\n",
       "2023-07-31  196.060  196.490  195.2600  196.450  38824113.0\n",
       "2023-08-01  196.235  196.730  195.2800  195.605  35281426.0\n",
       "2023-08-02  195.040  195.180  191.8507  192.580  50389327.0"
      ]
     },
     "execution_count": 95,
     "metadata": {},
     "output_type": "execute_result"
    }
   ],
   "source": [
    "#see the end of the datafram\n",
    "df.tail()"
   ]
  },
  {
   "cell_type": "code",
   "execution_count": 96,
   "metadata": {},
   "outputs": [
    {
     "data": {
      "text/html": [
       "<div>\n",
       "<style scoped>\n",
       "    .dataframe tbody tr th:only-of-type {\n",
       "        vertical-align: middle;\n",
       "    }\n",
       "\n",
       "    .dataframe tbody tr th {\n",
       "        vertical-align: top;\n",
       "    }\n",
       "\n",
       "    .dataframe thead th {\n",
       "        text-align: right;\n",
       "    }\n",
       "</style>\n",
       "<table border=\"1\" class=\"dataframe\">\n",
       "  <thead>\n",
       "    <tr style=\"text-align: right;\">\n",
       "      <th></th>\n",
       "      <th>Date</th>\n",
       "      <th>Open</th>\n",
       "      <th>High</th>\n",
       "      <th>Low</th>\n",
       "      <th>Close</th>\n",
       "      <th>Volume</th>\n",
       "    </tr>\n",
       "  </thead>\n",
       "  <tbody>\n",
       "    <tr>\n",
       "      <th>0</th>\n",
       "      <td>2010-01-04</td>\n",
       "      <td>6.49958</td>\n",
       "      <td>6.53008</td>\n",
       "      <td>6.46597</td>\n",
       "      <td>6.51522</td>\n",
       "      <td>5.764890e+08</td>\n",
       "    </tr>\n",
       "    <tr>\n",
       "      <th>1</th>\n",
       "      <td>2010-01-05</td>\n",
       "      <td>6.53905</td>\n",
       "      <td>6.56358</td>\n",
       "      <td>6.49230</td>\n",
       "      <td>6.52639</td>\n",
       "      <td>7.055130e+08</td>\n",
       "    </tr>\n",
       "    <tr>\n",
       "      <th>2</th>\n",
       "      <td>2010-01-06</td>\n",
       "      <td>6.52639</td>\n",
       "      <td>6.55241</td>\n",
       "      <td>6.41553</td>\n",
       "      <td>6.42221</td>\n",
       "      <td>6.452991e+08</td>\n",
       "    </tr>\n",
       "    <tr>\n",
       "      <th>3</th>\n",
       "      <td>2010-01-07</td>\n",
       "      <td>6.44444</td>\n",
       "      <td>6.45421</td>\n",
       "      <td>6.36409</td>\n",
       "      <td>6.41085</td>\n",
       "      <td>5.588893e+08</td>\n",
       "    </tr>\n",
       "    <tr>\n",
       "      <th>4</th>\n",
       "      <td>2010-01-08</td>\n",
       "      <td>6.40586</td>\n",
       "      <td>6.45421</td>\n",
       "      <td>6.36458</td>\n",
       "      <td>6.45401</td>\n",
       "      <td>5.246856e+08</td>\n",
       "    </tr>\n",
       "  </tbody>\n",
       "</table>\n",
       "</div>"
      ],
      "text/plain": [
       "        Date     Open     High      Low    Close        Volume\n",
       "0 2010-01-04  6.49958  6.53008  6.46597  6.51522  5.764890e+08\n",
       "1 2010-01-05  6.53905  6.56358  6.49230  6.52639  7.055130e+08\n",
       "2 2010-01-06  6.52639  6.55241  6.41553  6.42221  6.452991e+08\n",
       "3 2010-01-07  6.44444  6.45421  6.36409  6.41085  5.588893e+08\n",
       "4 2010-01-08  6.40586  6.45421  6.36458  6.45401  5.246856e+08"
      ]
     },
     "execution_count": 96,
     "metadata": {},
     "output_type": "execute_result"
    }
   ],
   "source": [
    "#add an index to our dataframe\n",
    "df = df.reset_index()\n",
    "df.head()"
   ]
  },
  {
   "cell_type": "code",
   "execution_count": 97,
   "metadata": {},
   "outputs": [
    {
     "data": {
      "text/html": [
       "<div>\n",
       "<style scoped>\n",
       "    .dataframe tbody tr th:only-of-type {\n",
       "        vertical-align: middle;\n",
       "    }\n",
       "\n",
       "    .dataframe tbody tr th {\n",
       "        vertical-align: top;\n",
       "    }\n",
       "\n",
       "    .dataframe thead th {\n",
       "        text-align: right;\n",
       "    }\n",
       "</style>\n",
       "<table border=\"1\" class=\"dataframe\">\n",
       "  <thead>\n",
       "    <tr style=\"text-align: right;\">\n",
       "      <th></th>\n",
       "      <th>Open</th>\n",
       "      <th>High</th>\n",
       "      <th>Low</th>\n",
       "      <th>Close</th>\n",
       "      <th>Volume</th>\n",
       "    </tr>\n",
       "  </thead>\n",
       "  <tbody>\n",
       "    <tr>\n",
       "      <th>0</th>\n",
       "      <td>6.49958</td>\n",
       "      <td>6.53008</td>\n",
       "      <td>6.46597</td>\n",
       "      <td>6.51522</td>\n",
       "      <td>5.764890e+08</td>\n",
       "    </tr>\n",
       "    <tr>\n",
       "      <th>1</th>\n",
       "      <td>6.53905</td>\n",
       "      <td>6.56358</td>\n",
       "      <td>6.49230</td>\n",
       "      <td>6.52639</td>\n",
       "      <td>7.055130e+08</td>\n",
       "    </tr>\n",
       "    <tr>\n",
       "      <th>2</th>\n",
       "      <td>6.52639</td>\n",
       "      <td>6.55241</td>\n",
       "      <td>6.41553</td>\n",
       "      <td>6.42221</td>\n",
       "      <td>6.452991e+08</td>\n",
       "    </tr>\n",
       "    <tr>\n",
       "      <th>3</th>\n",
       "      <td>6.44444</td>\n",
       "      <td>6.45421</td>\n",
       "      <td>6.36409</td>\n",
       "      <td>6.41085</td>\n",
       "      <td>5.588893e+08</td>\n",
       "    </tr>\n",
       "    <tr>\n",
       "      <th>4</th>\n",
       "      <td>6.40586</td>\n",
       "      <td>6.45421</td>\n",
       "      <td>6.36458</td>\n",
       "      <td>6.45401</td>\n",
       "      <td>5.246856e+08</td>\n",
       "    </tr>\n",
       "  </tbody>\n",
       "</table>\n",
       "</div>"
      ],
      "text/plain": [
       "      Open     High      Low    Close        Volume\n",
       "0  6.49958  6.53008  6.46597  6.51522  5.764890e+08\n",
       "1  6.53905  6.56358  6.49230  6.52639  7.055130e+08\n",
       "2  6.52639  6.55241  6.41553  6.42221  6.452991e+08\n",
       "3  6.44444  6.45421  6.36409  6.41085  5.588893e+08\n",
       "4  6.40586  6.45421  6.36458  6.45401  5.246856e+08"
      ]
     },
     "execution_count": 97,
     "metadata": {},
     "output_type": "execute_result"
    }
   ],
   "source": [
    "#drop the date column from dataframe\n",
    "df = df.drop(['Date'], axis=1)\n",
    "df.head()"
   ]
  },
  {
   "cell_type": "code",
   "execution_count": 98,
   "metadata": {},
   "outputs": [
    {
     "data": {
      "text/plain": [
       "[<matplotlib.lines.Line2D at 0x23d54e22e90>]"
      ]
     },
     "execution_count": 98,
     "metadata": {},
     "output_type": "execute_result"
    },
    {
     "data": {
      "image/png": "[encoded data removed]",
      "text/plain": [
       "<Figure size 640x480 with 1 Axes>"
      ]
     },
     "metadata": {},
     "output_type": "display_data"
    }
   ],
   "source": [
    "#plot the graph of close price\n",
    "plt.plot(df.Close)"
   ]
  },
  {
   "cell_type": "code",
   "execution_count": 99,
   "metadata": {},
   "outputs": [
    {
     "data": {
      "text/plain": [
       "0             NaN\n",
       "1             NaN\n",
       "2             NaN\n",
       "3             NaN\n",
       "4             NaN\n",
       "          ...    \n",
       "3413    173.81405\n",
       "3414    174.23405\n",
       "3415    174.68255\n",
       "3416    175.10990\n",
       "3417    175.52980\n",
       "Name: Close, Length: 3418, dtype: float64"
      ]
     },
     "execution_count": 99,
     "metadata": {},
     "output_type": "execute_result"
    }
   ],
   "source": [
    "#create a moving average of 100 days function\n",
    "\n",
    "ma100 = df.Close.rolling(100).mean()\n",
    "ma100"
   ]
  },
  {
   "cell_type": "code",
   "execution_count": 100,
   "metadata": {},
   "outputs": [
    {
     "data": {
      "text/plain": [
       "[<matplotlib.lines.Line2D at 0x23d54ccc790>]"
      ]
     },
     "execution_count": 100,
     "metadata": {},
     "output_type": "execute_result"
    },
    {
     "data": {
      "image/png": "[encoded data removed]",
      "text/plain": [
       "<Figure size 1200x600 with 1 Axes>"
      ]
     },
     "metadata": {},
     "output_type": "display_data"
    }
   ],
   "source": [
    "#plot the ma100 graph and close price \n",
    "plt.figure(figsize = (12,6))\n",
    "plt.plot(df.Close)\n",
    "plt.plot(ma100, 'r')\n"
   ]
  },
  {
   "cell_type": "code",
   "execution_count": 101,
   "metadata": {},
   "outputs": [
    {
     "data": {
      "text/plain": [
       "0              NaN\n",
       "1              NaN\n",
       "2              NaN\n",
       "3              NaN\n",
       "4              NaN\n",
       "           ...    \n",
       "3413    158.429980\n",
       "3414    158.708195\n",
       "3415    158.996695\n",
       "3416    159.284165\n",
       "3417    159.533300\n",
       "Name: Close, Length: 3418, dtype: float64"
      ]
     },
     "execution_count": 101,
     "metadata": {},
     "output_type": "execute_result"
    }
   ],
   "source": [
    "#create a moving average of 200 days function\n",
    "\n",
    "ma200 = df.Close.rolling(200).mean()\n",
    "ma200"
   ]
  },
  {
   "cell_type": "code",
   "execution_count": 102,
   "metadata": {},
   "outputs": [
    {
     "data": {
      "text/plain": [
       "[<matplotlib.lines.Line2D at 0x23d550a5510>]"
      ]
     },
     "execution_count": 102,
     "metadata": {},
     "output_type": "execute_result"
    },
    {
     "data": {
      "image/png": "[encoded data removed]",
      "text/plain": [
       "<Figure size 1200x600 with 1 Axes>"
      ]
     },
     "metadata": {},
     "output_type": "display_data"
    }
   ],
   "source": [
    "#plot the ma100 graph and close price \n",
    "plt.figure(figsize = (12,6))\n",
    "plt.plot(df.Close)\n",
    "plt.plot(ma100, 'r')\n",
    "plt.plot(ma200, 'g')"
   ]
  },
  {
   "cell_type": "code",
   "execution_count": 103,
   "metadata": {},
   "outputs": [
    {
     "data": {
      "text/plain": [
       "(3418, 5)"
      ]
     },
     "execution_count": 103,
     "metadata": {},
     "output_type": "execute_result"
    }
   ],
   "source": [
    "#see the number of columns and rows\n",
    "\n",
    "df.shape"
   ]
  },
  {
   "cell_type": "code",
   "execution_count": 104,
   "metadata": {},
   "outputs": [
    {
     "name": "stdout",
     "output_type": "stream",
     "text": [
      "(2392, 1)\n",
      "(1026, 1)\n"
     ]
    }
   ],
   "source": [
    "#split the data into Training and Testing\n",
    "#train 70% of the data, and test the rest\n",
    "data_training = pd.DataFrame(df['Close'][0 : int(len(df) * 0.70)])\n",
    "data_testing = pd.DataFrame(df['Close'][int(len(df) * 0.70) : int(len(df))])\n",
    "\n",
    "print(data_training.shape)\n",
    "print(data_testing.shape)"
   ]
  },
  {
   "cell_type": "code",
   "execution_count": 105,
   "metadata": {},
   "outputs": [
    {
     "data": {
      "text/html": [
       "<div>\n",
       "<style scoped>\n",
       "    .dataframe tbody tr th:only-of-type {\n",
       "        vertical-align: middle;\n",
       "    }\n",
       "\n",
       "    .dataframe tbody tr th {\n",
       "        vertical-align: top;\n",
       "    }\n",
       "\n",
       "    .dataframe thead th {\n",
       "        text-align: right;\n",
       "    }\n",
       "</style>\n",
       "<table border=\"1\" class=\"dataframe\">\n",
       "  <thead>\n",
       "    <tr style=\"text-align: right;\">\n",
       "      <th></th>\n",
       "      <th>Close</th>\n",
       "    </tr>\n",
       "  </thead>\n",
       "  <tbody>\n",
       "    <tr>\n",
       "      <th>0</th>\n",
       "      <td>6.51522</td>\n",
       "    </tr>\n",
       "    <tr>\n",
       "      <th>1</th>\n",
       "      <td>6.52639</td>\n",
       "    </tr>\n",
       "    <tr>\n",
       "      <th>2</th>\n",
       "      <td>6.42221</td>\n",
       "    </tr>\n",
       "    <tr>\n",
       "      <th>3</th>\n",
       "      <td>6.41085</td>\n",
       "    </tr>\n",
       "    <tr>\n",
       "      <th>4</th>\n",
       "      <td>6.45401</td>\n",
       "    </tr>\n",
       "  </tbody>\n",
       "</table>\n",
       "</div>"
      ],
      "text/plain": [
       "     Close\n",
       "0  6.51522\n",
       "1  6.52639\n",
       "2  6.42221\n",
       "3  6.41085\n",
       "4  6.45401"
      ]
     },
     "execution_count": 105,
     "metadata": {},
     "output_type": "execute_result"
    }
   ],
   "source": [
    "data_training.head()"
   ]
  },
  {
   "cell_type": "code",
   "execution_count": 106,
   "metadata": {},
   "outputs": [
    {
     "data": {
      "text/html": [
       "<div>\n",
       "<style scoped>\n",
       "    .dataframe tbody tr th:only-of-type {\n",
       "        vertical-align: middle;\n",
       "    }\n",
       "\n",
       "    .dataframe tbody tr th {\n",
       "        vertical-align: top;\n",
       "    }\n",
       "\n",
       "    .dataframe thead th {\n",
       "        text-align: right;\n",
       "    }\n",
       "</style>\n",
       "<table border=\"1\" class=\"dataframe\">\n",
       "  <thead>\n",
       "    <tr style=\"text-align: right;\">\n",
       "      <th></th>\n",
       "      <th>Close</th>\n",
       "    </tr>\n",
       "  </thead>\n",
       "  <tbody>\n",
       "    <tr>\n",
       "      <th>2392</th>\n",
       "      <td>48.6546</td>\n",
       "    </tr>\n",
       "    <tr>\n",
       "      <th>2393</th>\n",
       "      <td>48.9547</td>\n",
       "    </tr>\n",
       "    <tr>\n",
       "      <th>2394</th>\n",
       "      <td>49.4372</td>\n",
       "    </tr>\n",
       "    <tr>\n",
       "      <th>2395</th>\n",
       "      <td>49.0803</td>\n",
       "    </tr>\n",
       "    <tr>\n",
       "      <th>2396</th>\n",
       "      <td>49.4542</td>\n",
       "    </tr>\n",
       "  </tbody>\n",
       "</table>\n",
       "</div>"
      ],
      "text/plain": [
       "        Close\n",
       "2392  48.6546\n",
       "2393  48.9547\n",
       "2394  49.4372\n",
       "2395  49.0803\n",
       "2396  49.4542"
      ]
     },
     "execution_count": 106,
     "metadata": {},
     "output_type": "execute_result"
    }
   ],
   "source": [
    "data_testing.head()"
   ]
  },
  {
   "cell_type": "code",
   "execution_count": 107,
   "metadata": {},
   "outputs": [],
   "source": [
    "#scaling down the data between 0 and 1\n",
    "#have to preprocess the data using sklearn library minmaxscaler function\n",
    "\n",
    "from sklearn.preprocessing import MinMaxScaler\n",
    "scaler = MinMaxScaler(feature_range=(0,1))"
   ]
  },
  {
   "cell_type": "code",
   "execution_count": 108,
   "metadata": {},
   "outputs": [
    {
     "data": {
      "text/plain": [
       "array([[0.01338642],\n",
       "       [0.01361001],\n",
       "       [0.01152464],\n",
       "       ...,\n",
       "       [0.8701652 ],\n",
       "       [0.87834618],\n",
       "       [0.87744942]])"
      ]
     },
     "execution_count": 108,
     "metadata": {},
     "output_type": "execute_result"
    }
   ],
   "source": [
    "data_training_array = scaler.fit_transform(data_training)\n",
    "data_training_array"
   ]
  },
  {
   "cell_type": "code",
   "execution_count": 109,
   "metadata": {},
   "outputs": [],
   "source": [
    "#divid up the training model to prediction prereq x set and prediction res y set \n",
    "\n",
    "x_train = []\n",
    "y_train = []\n",
    "\n",
    "for i in range(100, data_training_array.shape[0]):\n",
    "    x_train.append(data_training_array[i-100 : i])\n",
    "    y_train.append(data_training_array[i, 0])\n",
    "    \n",
    "x_train, y_train = np.array(x_train), np.array(y_train)"
   ]
  },
  {
   "cell_type": "code",
   "execution_count": 110,
   "metadata": {},
   "outputs": [],
   "source": [
    "#ML Model dependencies\n",
    "from keras.layers import Dense, Dropout, LSTM\n",
    "from keras.models import Sequential"
   ]
  },
  {
   "cell_type": "code",
   "execution_count": 111,
   "metadata": {},
   "outputs": [],
   "source": [
    "#ML Model \n",
    "model = Sequential()\n",
    "model.add(LSTM(units = 50, activation = 'relu', return_sequences=True,\n",
    "               input_shape = (x_train.shape[1], 1)))\n",
    "model.add(Dropout(0.2))\n",
    "\n",
    "model.add(LSTM(units = 60, activation = 'relu', return_sequences=True))\n",
    "model.add(Dropout(0.3))\n",
    "\n",
    "model.add(LSTM(units = 80, activation = 'relu', return_sequences=True))\n",
    "model.add(Dropout(0.3))\n",
    "\n",
    "model.add(LSTM(units = 120, activation = 'relu'))\n",
    "model.add(Dropout(0.4))\n",
    "\n",
    "model.add(Dense(units = 1))"
   ]
  },
  {
   "cell_type": "code",
   "execution_count": 112,
   "metadata": {},
   "outputs": [
    {
     "name": "stdout",
     "output_type": "stream",
     "text": [
      "Model: \"sequential_3\"\n",
      "_________________________________________________________________\n",
      " Layer (type)                Output Shape              Param #   \n",
      "=================================================================\n",
      " lstm_12 (LSTM)              (None, 100, 50)           10400     \n",
      "                                                                 \n",
      " dropout_12 (Dropout)        (None, 100, 50)           0         \n",
      "                                                                 \n",
      " lstm_13 (LSTM)              (None, 100, 60)           26640     \n",
      "                                                                 \n",
      " dropout_13 (Dropout)        (None, 100, 60)           0         \n",
      "                                                                 \n",
      " lstm_14 (LSTM)              (None, 100, 80)           45120     \n",
      "                                                                 \n",
      " dropout_14 (Dropout)        (None, 100, 80)           0         \n",
      "                                                                 \n",
      " lstm_15 (LSTM)              (None, 120)               96480     \n",
      "                                                                 \n",
      " dropout_15 (Dropout)        (None, 120)               0         \n",
      "                                                                 \n",
      " dense_3 (Dense)             (None, 1)                 121       \n",
      "                                                                 \n",
      "=================================================================\n",
      "Total params: 178761 (698.29 KB)\n",
      "Trainable params: 178761 (698.29 KB)\n",
      "Non-trainable params: 0 (0.00 Byte)\n",
      "_________________________________________________________________\n"
     ]
    }
   ],
   "source": [
    "model.summary()"
   ]
  },
  {
   "cell_type": "code",
   "execution_count": 113,
   "metadata": {},
   "outputs": [
    {
     "name": "stdout",
     "output_type": "stream",
     "text": [
      "Epoch 1/200\n",
      "72/72 [==============================] - 8s 75ms/step - loss: 0.0259\n",
      "Epoch 2/200\n",
      "72/72 [==============================] - 6s 77ms/step - loss: 0.0051\n",
      "Epoch 3/200\n",
      "72/72 [==============================] - 6s 77ms/step - loss: 0.0047\n",
      "Epoch 4/200\n",
      "72/72 [==============================] - 6s 78ms/step - loss: 0.0050\n",
      "Epoch 5/200\n",
      "72/72 [==============================] - 6s 77ms/step - loss: 0.0044\n",
      "Epoch 6/200\n",
      "72/72 [==============================] - 6s 79ms/step - loss: 0.0038\n",
      "Epoch 7/200\n",
      "72/72 [==============================] - 6s 79ms/step - loss: 0.0040\n",
      "Epoch 8/200\n",
      "72/72 [==============================] - 6s 79ms/step - loss: 0.0039\n",
      "Epoch 9/200\n",
      "72/72 [==============================] - 6s 77ms/step - loss: 0.0037\n",
      "Epoch 10/200\n",
      "72/72 [==============================] - 6s 77ms/step - loss: 0.0034\n",
      "Epoch 11/200\n",
      "72/72 [==============================] - 6s 78ms/step - loss: 0.0031\n",
      "Epoch 12/200\n",
      "72/72 [==============================] - 6s 77ms/step - loss: 0.0030\n",
      "Epoch 13/200\n",
      "72/72 [==============================] - 6s 77ms/step - loss: 0.0034\n",
      "Epoch 14/200\n",
      "72/72 [==============================] - 6s 79ms/step - loss: 0.0032\n",
      "Epoch 15/200\n",
      "72/72 [==============================] - 6s 77ms/step - loss: 0.0029\n",
      "Epoch 16/200\n",
      "72/72 [==============================] - 5s 76ms/step - loss: 0.0026\n",
      "Epoch 17/200\n",
      "72/72 [==============================] - 6s 77ms/step - loss: 0.0026\n",
      "Epoch 18/200\n",
      "72/72 [==============================] - 5s 76ms/step - loss: 0.0025\n",
      "Epoch 19/200\n",
      "72/72 [==============================] - 6s 77ms/step - loss: 0.0025\n",
      "Epoch 20/200\n",
      "72/72 [==============================] - 6s 78ms/step - loss: 0.0028\n",
      "Epoch 21/200\n",
      "72/72 [==============================] - 6s 77ms/step - loss: 0.0025\n",
      "Epoch 22/200\n",
      "72/72 [==============================] - 6s 78ms/step - loss: 0.0023\n",
      "Epoch 23/200\n",
      "72/72 [==============================] - 6s 77ms/step - loss: 0.0022\n",
      "Epoch 24/200\n",
      "72/72 [==============================] - 6s 77ms/step - loss: 0.0022\n",
      "Epoch 25/200\n",
      "72/72 [==============================] - 5s 76ms/step - loss: 0.0021\n",
      "Epoch 26/200\n",
      "72/72 [==============================] - 6s 77ms/step - loss: 0.0021\n",
      "Epoch 27/200\n",
      "72/72 [==============================] - 6s 78ms/step - loss: 0.0022\n",
      "Epoch 28/200\n",
      "72/72 [==============================] - 6s 78ms/step - loss: 0.0021\n",
      "Epoch 29/200\n",
      "72/72 [==============================] - 6s 78ms/step - loss: 0.0019\n",
      "Epoch 30/200\n",
      "72/72 [==============================] - 6s 79ms/step - loss: 0.0017\n",
      "Epoch 31/200\n",
      "72/72 [==============================] - 5s 76ms/step - loss: 0.0019\n",
      "Epoch 32/200\n",
      "72/72 [==============================] - 5s 76ms/step - loss: 0.0019\n",
      "Epoch 33/200\n",
      "72/72 [==============================] - 6s 78ms/step - loss: 0.0018\n",
      "Epoch 34/200\n",
      "72/72 [==============================] - 6s 78ms/step - loss: 0.0019\n",
      "Epoch 35/200\n",
      "72/72 [==============================] - 6s 77ms/step - loss: 0.0019\n",
      "Epoch 36/200\n",
      "72/72 [==============================] - 6s 77ms/step - loss: 0.0018\n",
      "Epoch 37/200\n",
      "72/72 [==============================] - 6s 77ms/step - loss: 0.0017\n",
      "Epoch 38/200\n",
      "72/72 [==============================] - 6s 77ms/step - loss: 0.0019\n",
      "Epoch 39/200\n",
      "72/72 [==============================] - 6s 78ms/step - loss: 0.0018\n",
      "Epoch 40/200\n",
      "72/72 [==============================] - 6s 77ms/step - loss: 0.0019\n",
      "Epoch 41/200\n",
      "72/72 [==============================] - 6s 78ms/step - loss: 0.0017\n",
      "Epoch 42/200\n",
      "72/72 [==============================] - 6s 77ms/step - loss: 0.0018\n",
      "Epoch 43/200\n",
      "72/72 [==============================] - 6s 77ms/step - loss: 0.0017\n",
      "Epoch 44/200\n",
      "72/72 [==============================] - 6s 78ms/step - loss: 0.0015\n",
      "Epoch 45/200\n",
      "72/72 [==============================] - 6s 78ms/step - loss: 0.0016\n",
      "Epoch 46/200\n",
      "72/72 [==============================] - 6s 78ms/step - loss: 0.0016\n",
      "Epoch 47/200\n",
      "72/72 [==============================] - 6s 78ms/step - loss: 0.0016\n",
      "Epoch 48/200\n",
      "72/72 [==============================] - 6s 78ms/step - loss: 0.0015\n",
      "Epoch 49/200\n",
      "72/72 [==============================] - 6s 78ms/step - loss: 0.0015\n",
      "Epoch 50/200\n",
      "72/72 [==============================] - 6s 77ms/step - loss: 0.0015\n",
      "Epoch 51/200\n",
      "72/72 [==============================] - 6s 77ms/step - loss: 0.0015\n",
      "Epoch 52/200\n",
      "72/72 [==============================] - 6s 78ms/step - loss: 0.0014\n",
      "Epoch 53/200\n",
      "72/72 [==============================] - 6s 77ms/step - loss: 0.0015\n",
      "Epoch 54/200\n",
      "72/72 [==============================] - 6s 78ms/step - loss: 0.0016\n",
      "Epoch 55/200\n",
      "72/72 [==============================] - 6s 77ms/step - loss: 0.0015\n",
      "Epoch 56/200\n",
      "72/72 [==============================] - 6s 78ms/step - loss: 0.0015\n",
      "Epoch 57/200\n",
      "72/72 [==============================] - 6s 78ms/step - loss: 0.0015\n",
      "Epoch 58/200\n",
      "72/72 [==============================] - 6s 78ms/step - loss: 0.0015\n",
      "Epoch 59/200\n",
      "72/72 [==============================] - 6s 77ms/step - loss: 0.0014\n",
      "Epoch 60/200\n",
      "72/72 [==============================] - 6s 78ms/step - loss: 0.0016\n",
      "Epoch 61/200\n",
      "72/72 [==============================] - 6s 79ms/step - loss: 0.0016\n",
      "Epoch 62/200\n",
      "72/72 [==============================] - 6s 77ms/step - loss: 0.0017\n",
      "Epoch 63/200\n",
      "72/72 [==============================] - 6s 78ms/step - loss: 0.0015\n",
      "Epoch 64/200\n",
      "72/72 [==============================] - 6s 77ms/step - loss: 0.0015\n",
      "Epoch 65/200\n",
      "72/72 [==============================] - 6s 78ms/step - loss: 0.0014\n",
      "Epoch 66/200\n",
      "72/72 [==============================] - 6s 78ms/step - loss: 0.0016\n",
      "Epoch 67/200\n",
      "72/72 [==============================] - 6s 78ms/step - loss: 0.0014\n",
      "Epoch 68/200\n",
      "72/72 [==============================] - 6s 78ms/step - loss: 0.0019\n",
      "Epoch 69/200\n",
      "72/72 [==============================] - 6s 78ms/step - loss: 0.0015\n",
      "Epoch 70/200\n",
      "72/72 [==============================] - 6s 78ms/step - loss: 0.0015\n",
      "Epoch 71/200\n",
      "72/72 [==============================] - 6s 78ms/step - loss: 0.0015\n",
      "Epoch 72/200\n",
      "72/72 [==============================] - 6s 78ms/step - loss: 0.0013\n",
      "Epoch 73/200\n",
      "72/72 [==============================] - 6s 77ms/step - loss: 0.0014\n",
      "Epoch 74/200\n",
      "72/72 [==============================] - 6s 78ms/step - loss: 0.0015\n",
      "Epoch 75/200\n",
      "72/72 [==============================] - 6s 78ms/step - loss: 0.0014\n",
      "Epoch 76/200\n",
      "72/72 [==============================] - 6s 79ms/step - loss: 0.0013\n",
      "Epoch 77/200\n",
      "72/72 [==============================] - 6s 78ms/step - loss: 0.0014\n",
      "Epoch 78/200\n",
      "72/72 [==============================] - 6s 78ms/step - loss: 0.0015\n",
      "Epoch 79/200\n",
      "72/72 [==============================] - 6s 79ms/step - loss: 0.0015\n",
      "Epoch 80/200\n",
      "72/72 [==============================] - 6s 78ms/step - loss: 0.0013\n",
      "Epoch 81/200\n",
      "72/72 [==============================] - 6s 78ms/step - loss: 0.0014\n",
      "Epoch 82/200\n",
      "72/72 [==============================] - 6s 77ms/step - loss: 0.0015\n",
      "Epoch 83/200\n",
      "72/72 [==============================] - 6s 78ms/step - loss: 0.0014\n",
      "Epoch 84/200\n",
      "72/72 [==============================] - 6s 77ms/step - loss: 0.0014\n",
      "Epoch 85/200\n",
      "72/72 [==============================] - 6s 78ms/step - loss: 0.0014\n",
      "Epoch 86/200\n",
      "72/72 [==============================] - 6s 77ms/step - loss: 0.0013\n",
      "Epoch 87/200\n",
      "72/72 [==============================] - 6s 78ms/step - loss: 0.0015\n",
      "Epoch 88/200\n",
      "72/72 [==============================] - 6s 77ms/step - loss: 0.0014\n",
      "Epoch 89/200\n",
      "72/72 [==============================] - 6s 78ms/step - loss: 0.0014\n",
      "Epoch 90/200\n",
      "72/72 [==============================] - 6s 77ms/step - loss: 0.0013\n",
      "Epoch 91/200\n",
      "72/72 [==============================] - 6s 82ms/step - loss: 0.0013\n",
      "Epoch 92/200\n",
      "72/72 [==============================] - 6s 79ms/step - loss: 0.0015\n",
      "Epoch 93/200\n",
      "72/72 [==============================] - 6s 78ms/step - loss: 0.0013\n",
      "Epoch 94/200\n",
      "72/72 [==============================] - 6s 78ms/step - loss: 0.0012\n",
      "Epoch 95/200\n",
      "72/72 [==============================] - 6s 77ms/step - loss: 0.0013\n",
      "Epoch 96/200\n",
      "72/72 [==============================] - 6s 78ms/step - loss: 0.0013\n",
      "Epoch 97/200\n",
      "72/72 [==============================] - 6s 77ms/step - loss: 0.0015\n",
      "Epoch 98/200\n",
      "72/72 [==============================] - 6s 77ms/step - loss: 0.0013\n",
      "Epoch 99/200\n",
      "72/72 [==============================] - 6s 78ms/step - loss: 0.0014\n",
      "Epoch 100/200\n",
      "72/72 [==============================] - 6s 77ms/step - loss: 0.0013\n",
      "Epoch 101/200\n",
      "72/72 [==============================] - 6s 78ms/step - loss: 0.0014\n",
      "Epoch 102/200\n",
      "72/72 [==============================] - 6s 77ms/step - loss: 0.0014\n",
      "Epoch 103/200\n",
      "72/72 [==============================] - 6s 78ms/step - loss: 0.0013\n",
      "Epoch 104/200\n",
      "72/72 [==============================] - 6s 77ms/step - loss: 0.0013\n",
      "Epoch 105/200\n",
      "72/72 [==============================] - 6s 77ms/step - loss: 0.0013\n",
      "Epoch 106/200\n",
      "72/72 [==============================] - 6s 77ms/step - loss: 0.0014\n",
      "Epoch 107/200\n",
      "72/72 [==============================] - 6s 78ms/step - loss: 0.0013\n",
      "Epoch 108/200\n",
      "72/72 [==============================] - 6s 77ms/step - loss: 0.0013\n",
      "Epoch 109/200\n",
      "72/72 [==============================] - 6s 77ms/step - loss: 0.0013\n",
      "Epoch 110/200\n",
      "72/72 [==============================] - 6s 77ms/step - loss: 0.0013\n",
      "Epoch 111/200\n",
      "72/72 [==============================] - 6s 78ms/step - loss: 0.0014\n",
      "Epoch 112/200\n",
      "72/72 [==============================] - 6s 77ms/step - loss: 0.0014\n",
      "Epoch 113/200\n",
      "72/72 [==============================] - 5s 76ms/step - loss: 0.0012\n",
      "Epoch 114/200\n",
      "72/72 [==============================] - 5s 76ms/step - loss: 0.0013\n",
      "Epoch 115/200\n",
      "72/72 [==============================] - 6s 76ms/step - loss: 0.0012\n",
      "Epoch 116/200\n",
      "72/72 [==============================] - 6s 77ms/step - loss: 0.0013\n",
      "Epoch 117/200\n",
      "72/72 [==============================] - 6s 77ms/step - loss: 0.0014\n",
      "Epoch 118/200\n",
      "72/72 [==============================] - 6s 77ms/step - loss: 0.0012\n",
      "Epoch 119/200\n",
      "72/72 [==============================] - 6s 77ms/step - loss: 0.0012\n",
      "Epoch 120/200\n",
      "72/72 [==============================] - 6s 77ms/step - loss: 0.0013\n",
      "Epoch 121/200\n",
      "72/72 [==============================] - 5s 76ms/step - loss: 0.0013\n",
      "Epoch 122/200\n",
      "72/72 [==============================] - 6s 76ms/step - loss: 0.0013\n",
      "Epoch 123/200\n",
      "72/72 [==============================] - 5s 76ms/step - loss: 0.0014\n",
      "Epoch 124/200\n",
      "72/72 [==============================] - 6s 77ms/step - loss: 0.0014\n",
      "Epoch 125/200\n",
      "72/72 [==============================] - 5s 76ms/step - loss: 0.0012\n",
      "Epoch 126/200\n",
      "72/72 [==============================] - 6s 77ms/step - loss: 0.0013\n",
      "Epoch 127/200\n",
      "72/72 [==============================] - 6s 77ms/step - loss: 0.0012\n",
      "Epoch 128/200\n",
      "72/72 [==============================] - 6s 77ms/step - loss: 0.0013\n",
      "Epoch 129/200\n",
      "72/72 [==============================] - 6s 78ms/step - loss: 0.0013\n",
      "Epoch 130/200\n",
      "72/72 [==============================] - 6s 77ms/step - loss: 0.0013\n",
      "Epoch 131/200\n",
      "72/72 [==============================] - 6s 77ms/step - loss: 0.0013\n",
      "Epoch 132/200\n",
      "72/72 [==============================] - 6s 77ms/step - loss: 0.0012\n",
      "Epoch 133/200\n",
      "72/72 [==============================] - 6s 77ms/step - loss: 0.0012\n",
      "Epoch 134/200\n",
      "72/72 [==============================] - 6s 78ms/step - loss: 0.0012\n",
      "Epoch 135/200\n",
      "72/72 [==============================] - 6s 78ms/step - loss: 0.0012\n",
      "Epoch 136/200\n",
      "72/72 [==============================] - 6s 77ms/step - loss: 0.0014\n",
      "Epoch 137/200\n",
      "72/72 [==============================] - 6s 77ms/step - loss: 0.0012\n",
      "Epoch 138/200\n",
      "72/72 [==============================] - 5s 76ms/step - loss: 0.0013\n",
      "Epoch 139/200\n",
      "72/72 [==============================] - 6s 77ms/step - loss: 0.0013\n",
      "Epoch 140/200\n",
      "72/72 [==============================] - 6s 77ms/step - loss: 0.0012\n",
      "Epoch 141/200\n",
      "72/72 [==============================] - 6s 78ms/step - loss: 0.0012\n",
      "Epoch 142/200\n",
      "72/72 [==============================] - 5s 76ms/step - loss: 0.0013\n",
      "Epoch 143/200\n",
      "72/72 [==============================] - 6s 77ms/step - loss: 0.0012\n",
      "Epoch 144/200\n",
      "72/72 [==============================] - 6s 77ms/step - loss: 0.0012\n",
      "Epoch 145/200\n",
      "72/72 [==============================] - 6s 78ms/step - loss: 0.0013\n",
      "Epoch 146/200\n",
      "72/72 [==============================] - 6s 77ms/step - loss: 0.0012\n",
      "Epoch 147/200\n",
      "72/72 [==============================] - 6s 77ms/step - loss: 0.0012\n",
      "Epoch 148/200\n",
      "72/72 [==============================] - 6s 77ms/step - loss: 0.0013\n",
      "Epoch 149/200\n",
      "72/72 [==============================] - 6s 77ms/step - loss: 0.0012\n",
      "Epoch 150/200\n",
      "72/72 [==============================] - 6s 77ms/step - loss: 0.0012\n",
      "Epoch 151/200\n",
      "72/72 [==============================] - 6s 78ms/step - loss: 0.0013\n",
      "Epoch 152/200\n",
      "72/72 [==============================] - 6s 77ms/step - loss: 0.0013\n",
      "Epoch 153/200\n",
      "72/72 [==============================] - 6s 77ms/step - loss: 0.0012\n",
      "Epoch 154/200\n",
      "72/72 [==============================] - 6s 77ms/step - loss: 0.0013\n",
      "Epoch 155/200\n",
      "72/72 [==============================] - 6s 77ms/step - loss: 0.0013\n",
      "Epoch 156/200\n",
      "72/72 [==============================] - 6s 77ms/step - loss: 0.0013\n",
      "Epoch 157/200\n",
      "72/72 [==============================] - 6s 77ms/step - loss: 0.0012\n",
      "Epoch 158/200\n",
      "72/72 [==============================] - 6s 77ms/step - loss: 0.0012\n",
      "Epoch 159/200\n",
      "72/72 [==============================] - 6s 77ms/step - loss: 0.0012\n",
      "Epoch 160/200\n",
      "72/72 [==============================] - 6s 77ms/step - loss: 0.0013\n",
      "Epoch 161/200\n",
      "72/72 [==============================] - 6s 77ms/step - loss: 0.0013\n",
      "Epoch 162/200\n",
      "72/72 [==============================] - 6s 78ms/step - loss: 0.0012\n",
      "Epoch 163/200\n",
      "72/72 [==============================] - 6s 77ms/step - loss: 0.0012\n",
      "Epoch 164/200\n",
      "72/72 [==============================] - 6s 78ms/step - loss: 0.0011\n",
      "Epoch 165/200\n",
      "72/72 [==============================] - 6s 77ms/step - loss: 0.0013\n",
      "Epoch 166/200\n",
      "72/72 [==============================] - 6s 77ms/step - loss: 0.0014\n",
      "Epoch 167/200\n",
      "72/72 [==============================] - 6s 77ms/step - loss: 0.0012\n",
      "Epoch 168/200\n",
      "72/72 [==============================] - 6s 77ms/step - loss: 0.0012\n",
      "Epoch 169/200\n",
      "72/72 [==============================] - 6s 77ms/step - loss: 0.0013\n",
      "Epoch 170/200\n",
      "72/72 [==============================] - 6s 77ms/step - loss: 0.0012\n",
      "Epoch 171/200\n",
      "72/72 [==============================] - 5s 76ms/step - loss: 0.0012\n",
      "Epoch 172/200\n",
      "72/72 [==============================] - 6s 77ms/step - loss: 0.0013\n",
      "Epoch 173/200\n",
      "72/72 [==============================] - 6s 76ms/step - loss: 0.0011\n",
      "Epoch 174/200\n",
      "72/72 [==============================] - 6s 77ms/step - loss: 0.0012\n",
      "Epoch 175/200\n",
      "72/72 [==============================] - 5s 76ms/step - loss: 0.0013\n",
      "Epoch 176/200\n",
      "72/72 [==============================] - 6s 77ms/step - loss: 0.0012\n",
      "Epoch 177/200\n",
      "72/72 [==============================] - 6s 77ms/step - loss: 0.0010\n",
      "Epoch 178/200\n",
      "72/72 [==============================] - 6s 78ms/step - loss: 0.0012\n",
      "Epoch 179/200\n",
      "72/72 [==============================] - 6s 77ms/step - loss: 0.0012\n",
      "Epoch 180/200\n",
      "72/72 [==============================] - 6s 77ms/step - loss: 0.0012\n",
      "Epoch 181/200\n",
      "72/72 [==============================] - 6s 77ms/step - loss: 0.0012\n",
      "Epoch 182/200\n",
      "72/72 [==============================] - 6s 77ms/step - loss: 0.0012\n",
      "Epoch 183/200\n",
      "72/72 [==============================] - 6s 77ms/step - loss: 0.0013\n",
      "Epoch 184/200\n",
      "72/72 [==============================] - 6s 77ms/step - loss: 0.0013\n",
      "Epoch 185/200\n",
      "72/72 [==============================] - 5s 76ms/step - loss: 0.0012\n",
      "Epoch 186/200\n",
      "72/72 [==============================] - 6s 77ms/step - loss: 0.0012\n",
      "Epoch 187/200\n",
      "72/72 [==============================] - 6s 77ms/step - loss: 0.0011\n",
      "Epoch 188/200\n",
      "72/72 [==============================] - 6s 78ms/step - loss: 0.0012\n",
      "Epoch 189/200\n",
      "72/72 [==============================] - 6s 77ms/step - loss: 0.0011\n",
      "Epoch 190/200\n",
      "72/72 [==============================] - 6s 77ms/step - loss: 0.0012\n",
      "Epoch 191/200\n",
      "72/72 [==============================] - 6s 77ms/step - loss: 0.0012\n",
      "Epoch 192/200\n",
      "72/72 [==============================] - 6s 77ms/step - loss: 0.0012\n",
      "Epoch 193/200\n",
      "72/72 [==============================] - 6s 77ms/step - loss: 0.0012\n",
      "Epoch 194/200\n",
      "72/72 [==============================] - 6s 77ms/step - loss: 0.0013\n",
      "Epoch 195/200\n",
      "72/72 [==============================] - 6s 77ms/step - loss: 0.0012\n",
      "Epoch 196/200\n",
      "72/72 [==============================] - 5s 75ms/step - loss: 0.0011\n",
      "Epoch 197/200\n",
      "72/72 [==============================] - 5s 75ms/step - loss: 0.0011\n",
      "Epoch 198/200\n",
      "72/72 [==============================] - 5s 75ms/step - loss: 0.0012\n",
      "Epoch 199/200\n",
      "72/72 [==============================] - 5s 75ms/step - loss: 0.0012\n",
      "Epoch 200/200\n",
      "72/72 [==============================] - 5s 75ms/step - loss: 0.0012\n"
     ]
    },
    {
     "data": {
      "text/plain": [
       "<keras.src.callbacks.History at 0x23d550db1d0>"
      ]
     },
     "execution_count": 113,
     "metadata": {},
     "output_type": "execute_result"
    }
   ],
   "source": [
    "#Apply the adam optimization algorithm and run model 50 epochs\n",
    "model.compile(optimizer='adam', loss = 'mean_squared_error')\n",
    "model.fit(x_train, y_train, epochs = 200)"
   ]
  },
  {
   "cell_type": "code",
   "execution_count": 114,
   "metadata": {},
   "outputs": [
    {
     "name": "stderr",
     "output_type": "stream",
     "text": [
      "c:\\Users\\Kai\\AppData\\Local\\Programs\\Python\\Python311\\Lib\\site-packages\\keras\\src\\engine\\training.py:3000: UserWarning: You are saving your model as an HDF5 file via `model.save()`. This file format is considered legacy. We recommend using instead the native Keras format, e.g. `model.save('my_model.keras')`.\n",
      "  saving_api.save_model(\n"
     ]
    }
   ],
   "source": [
    "#Save the model\n",
    "model.save('keras_model.h5')"
   ]
  },
  {
   "cell_type": "code",
   "execution_count": 115,
   "metadata": {},
   "outputs": [
    {
     "data": {
      "text/html": [
       "<div>\n",
       "<style scoped>\n",
       "    .dataframe tbody tr th:only-of-type {\n",
       "        vertical-align: middle;\n",
       "    }\n",
       "\n",
       "    .dataframe tbody tr th {\n",
       "        vertical-align: top;\n",
       "    }\n",
       "\n",
       "    .dataframe thead th {\n",
       "        text-align: right;\n",
       "    }\n",
       "</style>\n",
       "<table border=\"1\" class=\"dataframe\">\n",
       "  <thead>\n",
       "    <tr style=\"text-align: right;\">\n",
       "      <th></th>\n",
       "      <th>Close</th>\n",
       "    </tr>\n",
       "  </thead>\n",
       "  <tbody>\n",
       "    <tr>\n",
       "      <th>2392</th>\n",
       "      <td>48.6546</td>\n",
       "    </tr>\n",
       "    <tr>\n",
       "      <th>2393</th>\n",
       "      <td>48.9547</td>\n",
       "    </tr>\n",
       "    <tr>\n",
       "      <th>2394</th>\n",
       "      <td>49.4372</td>\n",
       "    </tr>\n",
       "    <tr>\n",
       "      <th>2395</th>\n",
       "      <td>49.0803</td>\n",
       "    </tr>\n",
       "    <tr>\n",
       "      <th>2396</th>\n",
       "      <td>49.4542</td>\n",
       "    </tr>\n",
       "  </tbody>\n",
       "</table>\n",
       "</div>"
      ],
      "text/plain": [
       "        Close\n",
       "2392  48.6546\n",
       "2393  48.9547\n",
       "2394  49.4372\n",
       "2395  49.0803\n",
       "2396  49.4542"
      ]
     },
     "execution_count": 115,
     "metadata": {},
     "output_type": "execute_result"
    }
   ],
   "source": [
    "data_testing.head()"
   ]
  },
  {
   "cell_type": "code",
   "execution_count": 116,
   "metadata": {},
   "outputs": [
    {
     "name": "stderr",
     "output_type": "stream",
     "text": [
      "C:\\Users\\Kai\\AppData\\Local\\Temp\\ipykernel_30484\\938505723.py:2: FutureWarning: The frame.append method is deprecated and will be removed from pandas in a future version. Use pandas.concat instead.\n",
      "  final_df = past_100_days.append(data_testing, ignore_index=True)\n"
     ]
    },
    {
     "data": {
      "text/html": [
       "<div>\n",
       "<style scoped>\n",
       "    .dataframe tbody tr th:only-of-type {\n",
       "        vertical-align: middle;\n",
       "    }\n",
       "\n",
       "    .dataframe tbody tr th {\n",
       "        vertical-align: top;\n",
       "    }\n",
       "\n",
       "    .dataframe thead th {\n",
       "        text-align: right;\n",
       "    }\n",
       "</style>\n",
       "<table border=\"1\" class=\"dataframe\">\n",
       "  <thead>\n",
       "    <tr style=\"text-align: right;\">\n",
       "      <th></th>\n",
       "      <th>Close</th>\n",
       "    </tr>\n",
       "  </thead>\n",
       "  <tbody>\n",
       "    <tr>\n",
       "      <th>0</th>\n",
       "      <td>41.4107</td>\n",
       "    </tr>\n",
       "    <tr>\n",
       "      <th>1</th>\n",
       "      <td>41.2402</td>\n",
       "    </tr>\n",
       "    <tr>\n",
       "      <th>2</th>\n",
       "      <td>41.3897</td>\n",
       "    </tr>\n",
       "    <tr>\n",
       "      <th>3</th>\n",
       "      <td>41.3000</td>\n",
       "    </tr>\n",
       "    <tr>\n",
       "      <th>4</th>\n",
       "      <td>41.4197</td>\n",
       "    </tr>\n",
       "  </tbody>\n",
       "</table>\n",
       "</div>"
      ],
      "text/plain": [
       "     Close\n",
       "0  41.4107\n",
       "1  41.2402\n",
       "2  41.3897\n",
       "3  41.3000\n",
       "4  41.4197"
      ]
     },
     "execution_count": 116,
     "metadata": {},
     "output_type": "execute_result"
    }
   ],
   "source": [
    "past_100_days = data_training.tail(100)\n",
    "final_df = past_100_days.append(data_testing, ignore_index=True)\n",
    "final_df.head()"
   ]
  },
  {
   "cell_type": "code",
   "execution_count": 117,
   "metadata": {},
   "outputs": [
    {
     "data": {
      "text/plain": [
       "array([[1.09851311e-03],\n",
       "       [0.00000000e+00],\n",
       "       [9.63212374e-04],\n",
       "       ...,\n",
       "       [1.00000000e+00],\n",
       "       [9.94555756e-01],\n",
       "       [9.75066007e-01]])"
      ]
     },
     "execution_count": 117,
     "metadata": {},
     "output_type": "execute_result"
    }
   ],
   "source": [
    "input_data = scaler.fit_transform(final_df)\n",
    "input_data"
   ]
  },
  {
   "cell_type": "code",
   "execution_count": 118,
   "metadata": {},
   "outputs": [
    {
     "data": {
      "text/plain": [
       "(1126, 1)"
      ]
     },
     "execution_count": 118,
     "metadata": {},
     "output_type": "execute_result"
    }
   ],
   "source": [
    "input_data.shape"
   ]
  },
  {
   "cell_type": "code",
   "execution_count": 119,
   "metadata": {},
   "outputs": [
    {
     "name": "stdout",
     "output_type": "stream",
     "text": [
      "(1026, 100, 1)\n",
      "(1026,)\n"
     ]
    }
   ],
   "source": [
    "x_test = []\n",
    "y_test = []\n",
    "\n",
    "for i in range(100, input_data.shape[0]):\n",
    "    x_test.append(input_data[i-100: i])\n",
    "    y_test.append(input_data[i-100, 0])\n",
    "    \n",
    "x_test, y_test = np.array(x_test), np.array(y_test)\n",
    "print(x_test.shape)\n",
    "print(y_test.shape)    "
   ]
  },
  {
   "cell_type": "code",
   "execution_count": 120,
   "metadata": {},
   "outputs": [
    {
     "name": "stdout",
     "output_type": "stream",
     "text": [
      "33/33 [==============================] - 1s 21ms/step\n"
     ]
    },
    {
     "data": {
      "text/plain": [
       "(1026, 1)"
      ]
     },
     "execution_count": 120,
     "metadata": {},
     "output_type": "execute_result"
    }
   ],
   "source": [
    "# Make Predictions\n",
    "\n",
    "y_predicted = model.predict(x_test)\n",
    "y_predicted.shape"
   ]
  },
  {
   "cell_type": "code",
   "execution_count": 121,
   "metadata": {},
   "outputs": [
    {
     "data": {
      "text/plain": [
       "array([0.00109851, 0.        , 0.00096321, ..., 0.71103629, 0.71921876,\n",
       "       0.70452897])"
      ]
     },
     "execution_count": 121,
     "metadata": {},
     "output_type": "execute_result"
    }
   ],
   "source": [
    "y_test"
   ]
  },
  {
   "cell_type": "code",
   "execution_count": 122,
   "metadata": {},
   "outputs": [
    {
     "data": {
      "text/plain": [
       "array([[0.10647911],\n",
       "       [0.10728297],\n",
       "       [0.10781834],\n",
       "       ...,\n",
       "       [0.95319813],\n",
       "       [0.9558334 ],\n",
       "       [0.9573559 ]], dtype=float32)"
      ]
     },
     "execution_count": 122,
     "metadata": {},
     "output_type": "execute_result"
    }
   ],
   "source": [
    "y_predicted"
   ]
  },
  {
   "cell_type": "code",
   "execution_count": 123,
   "metadata": {},
   "outputs": [
    {
     "name": "stdout",
     "output_type": "stream",
     "text": [
      "0.006442892136965579\n"
     ]
    }
   ],
   "source": [
    "scaler = scaler.scale_\n",
    "\n",
    "\n",
    "print(scaler)"
   ]
  },
  {
   "cell_type": "code",
   "execution_count": 124,
   "metadata": {},
   "outputs": [],
   "source": [
    "scale_factor = 1 / scaler[0]\n",
    "y_predicted = y_predicted * scale_factor\n",
    "y_test = y_test * scale_factor"
   ]
  },
  {
   "cell_type": "code",
   "execution_count": 125,
   "metadata": {},
   "outputs": [
    {
     "data": {
      "image/png": "[encoded data removed]",
      "text/plain": [
       "<Figure size 1200x600 with 1 Axes>"
      ]
     },
     "metadata": {},
     "output_type": "display_data"
    }
   ],
   "source": [
    "plt.figure(figsize=(12,6))\n",
    "plt.plot(y_test, 'b', label = 'Original Price')\n",
    "plt.plot(y_predicted, 'r', label = 'Predicted Price')\n",
    "plt.xlabel('Time')\n",
    "plt.ylabel('Price')\n",
    "plt.legend()\n",
    "plt.show()"
   ]
  },
  {
   "cell_type": "code",
   "execution_count": null,
   "metadata": {},
   "outputs": [],
   "source": []
  }
 ],
 "metadata": {
  "kernelspec": {
   "display_name": "Python 3.11.0 64-bit",
   "language": "python",
   "name": "python3"
  },
  "language_info": {
   "codemirror_mode": {
    "name": "ipython",
    "version": 3
   },
   "file_extension": ".py",
   "mimetype": "text/x-python",
   "name": "python",
   "nbconvert_exporter": "python",
   "pygments_lexer": "ipython3",
   "version": "3.11.0"
  },
  "orig_nbformat": 4,
  "vscode": {
   "interpreter": {
    "hash": "94c21ec85cd25dc0a9e5b327ed81d1be109db9b6d041e68ffb694c8941427b34"
   }
  }
 },
 "nbformat": 4,
 "nbformat_minor": 2
}
